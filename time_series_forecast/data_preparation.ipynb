{
 "cells": [
  {
   "cell_type": "code",
   "execution_count": 1,
   "metadata": {},
   "outputs": [],
   "source": [
    "import numpy as np\n",
    "import pandas as pd"
   ]
  },
  {
   "cell_type": "markdown",
   "metadata": {},
   "source": [
    "### Data Preparation\n",
    "\n",
    "Data for this project was created from the following datasets\n",
    "\n",
    "- https://www.kaggle.com/datasets/prasoonkottarathil/btcinusd?select=BTC-Hourly.csv\n",
    "\n",
    "To run the data preparation download the listed files and place them in *raw_data* directory.\n",
    "\n",
    "<sub>The files needed to run the project are already provided inside *data* directory however.</sub>"
   ]
  },
  {
   "cell_type": "code",
   "execution_count": 2,
   "metadata": {},
   "outputs": [
    {
     "name": "stdout",
     "output_type": "stream",
     "text": [
      "<class 'pandas.core.frame.DataFrame'>\n",
      "DatetimeIndex: 33259 entries, 2022-03-01 00:00:00 to 2018-05-15 06:00:00\n",
      "Data columns (total 6 columns):\n",
      " #   Column      Non-Null Count  Dtype  \n",
      "---  ------      --------------  -----  \n",
      " 0   open        33259 non-null  float64\n",
      " 1   high        33259 non-null  float64\n",
      " 2   low         33259 non-null  float64\n",
      " 3   close       33259 non-null  float64\n",
      " 4   volume_btc  33259 non-null  float64\n",
      " 5   volume_usd  33259 non-null  float64\n",
      "dtypes: float64(6)\n",
      "memory usage: 1.8 MB\n"
     ]
    }
   ],
   "source": [
    "data = pd.read_csv('./raw_data/BTC-Hourly.csv')\n",
    "data['Volume BTC'], data['Volume USD']=np.where(data['Volume BTC'] > data['Volume USD'], (data['Volume USD'],data['Volume BTC']),(data['Volume BTC'], data['Volume USD']))\n",
    "data.drop(columns=['unix', 'symbol'], inplace=True)\n",
    "data.rename(columns = {'date': 'timestamp', 'Volume USD':'volume_usd', 'Volume BTC':'volume_btc'}, inplace = True)\n",
    "data['timestamp'] = pd.to_datetime(data['timestamp'])\n",
    "data = data.set_index('timestamp')\n",
    "data.info()\n",
    "data.head()\n",
    "\n",
    "data.to_csv('./data/btc_hourly_2018-2022.csv')"
   ]
  }
 ],
 "metadata": {
  "interpreter": {
   "hash": "4401cf81b6c9e78af029f564faf0b07e0df641eddaf27ae4622a1580ded2234c"
  },
  "kernelspec": {
   "display_name": "Python 3.9.12 ('ui')",
   "language": "python",
   "name": "python3"
  },
  "language_info": {
   "codemirror_mode": {
    "name": "ipython",
    "version": 3
   },
   "file_extension": ".py",
   "mimetype": "text/x-python",
   "name": "python",
   "nbconvert_exporter": "python",
   "pygments_lexer": "ipython3",
   "version": "3.9.12"
  },
  "orig_nbformat": 4
 },
 "nbformat": 4,
 "nbformat_minor": 2
}
